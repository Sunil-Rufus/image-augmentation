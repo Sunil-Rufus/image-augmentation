{
 "cells": [
  {
   "cell_type": "code",
   "execution_count": 12,
   "metadata": {},
   "outputs": [],
   "source": [
    "import numpy as np\n",
    "import pandas as pd\n",
    "import matplotlib.pyplot as plt\n",
    "import keras\n",
    "from keras.models import Sequential\n",
    "from keras.optimizers import Adam\n",
    "from keras.layers import Convolution2D, MaxPooling2D, Dropout, Flatten, Dense\n",
    "import cv2\n",
    "import random\n",
    "import os\n",
    "import ntpath\n",
    "from sklearn.utils import shuffle\n",
    "from sklearn.model_selection import train_test_split\n",
    "import matplotlib.image as mpimg\n",
    "from imgaug import augmenters as iaa"
   ]
  },
  {
   "cell_type": "code",
   "execution_count": 13,
   "metadata": {},
   "outputs": [],
   "source": [
    "def zoom_out(image):\n",
    "  zoom = iaa.Affine(scale =(1, 0.5) )\n",
    "  image = zoom.augment_image(image)\n",
    "  return image\n",
    "  \n",
    "def zoom_in(image):\n",
    "  zoom = iaa.Affine(scale =(1, 1.3) )\n",
    "  image = zoom.augment_image(image)\n",
    "  return image\n",
    "\n",
    "def pan(image):\n",
    "  pan = iaa.Affine(translate_percent={\"x\" : (-0.1, 0.1), \"y\": (-0.1, 0.1) })\n",
    "  image = pan.augment_image(image)\n",
    "  return image\n",
    "\n",
    "def img_random_brightness(image):\n",
    "  brightness = iaa.Multiply((0.2, 0.9))\n",
    "  image = brightness.augment_image(image)\n",
    "  return image\n",
    "\n",
    "def rotate(image):\n",
    "    rotate = iaa.Rotate((-45, 60))\n",
    "    image = rotate.augment_image(image)\n",
    "    return image\n",
    "\n",
    "def shear_x(image):\n",
    "    shear = iaa.ShearX((-20, 20))\n",
    "    image = shear.augment_image(image)\n",
    "    return image\n",
    "\n",
    "def shear_y(image):\n",
    "    shear = iaa.ShearY((-20, 20))\n",
    "    image = shear.augment_image(image)\n",
    "    return image"
   ]
  },
  {
   "cell_type": "code",
   "execution_count": 15,
   "metadata": {},
   "outputs": [],
   "source": [
    "path=\"/home/sunil/Documents/dataset_intern_rc/\"\n",
    "for image_path in os.listdir(path):\n",
    "    input_path = os.path.join(path, image_path)\n",
    "    original_image = mpimg.imread(input_path)\n",
    "    input_path_1 = input_path.split(\".\")\n",
    "    filename = input_path_1[0]\n",
    "    ext = input_path_1[1]\n",
    "    \n",
    "    zoomed_image_out = zoom_out(original_image)\n",
    "    zoomed_image_in = zoom_in(original_image)\n",
    "    \n",
    "    panned_image = pan(original_image)\n",
    "    \n",
    "    brightened_image=img_random_brightness(original_image)\n",
    "    \n",
    "    rotated_image = rotate(original_image)\n",
    "\n",
    "    sheared_image_x = shear_x(original_image)\n",
    "\n",
    "    sheared_image_y = shear_y(original_image)\n",
    "\n",
    "    cv2.imwrite(filename+\"_brightened.\"+ext,cv2.cvtColor(brightened_image, cv2.COLOR_RGB2BGR))\n",
    "    cv2.imwrite(filename+\"_zoomed_image_out.\"+ext,cv2.cvtColor(zoomed_image_out, cv2.COLOR_RGB2BGR))\n",
    "    cv2.imwrite(filename+\"_zoomed_image_in.\"+ext,cv2.cvtColor(zoomed_image_in, cv2.COLOR_RGB2BGR))\n",
    "    cv2.imwrite(filename+\"_panned.\"+ext,cv2.cvtColor(panned_image, cv2.COLOR_RGB2BGR))\n",
    "    cv2.imwrite(filename+\"_rotated.\"+ext,cv2.cvtColor(rotated_image, cv2.COLOR_RGB2BGR))\n",
    "    cv2.imwrite(filename+\"_sheared_x.\"+ext,cv2.cvtColor(sheared_image_x, cv2.COLOR_RGB2BGR))\n",
    "    cv2.imwrite(filename+\"_sheared_y.\"+ext,cv2.cvtColor(sheared_image_y, cv2.COLOR_RGB2BGR))\n",
    "    \n",
    "    "
   ]
  },
  {
   "cell_type": "code",
   "execution_count": null,
   "metadata": {},
   "outputs": [],
   "source": []
  },
  {
   "cell_type": "code",
   "execution_count": null,
   "metadata": {},
   "outputs": [],
   "source": []
  }
 ],
 "metadata": {
  "kernelspec": {
   "display_name": "Python 3",
   "language": "python",
   "name": "python3"
  },
  "language_info": {
   "codemirror_mode": {
    "name": "ipython",
    "version": 3
   },
   "file_extension": ".py",
   "mimetype": "text/x-python",
   "name": "python",
   "nbconvert_exporter": "python",
   "pygments_lexer": "ipython3",
   "version": "3.6.9"
  }
 },
 "nbformat": 4,
 "nbformat_minor": 2
}
